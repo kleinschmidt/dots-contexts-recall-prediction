{
 "cells": [
  {
   "cell_type": "code",
   "execution_count": 10,
   "metadata": {
    "slideshow": {
     "slide_type": "skip"
    }
   },
   "outputs": [
    {
     "name": "stderr",
     "output_type": "stream",
     "text": [
      "\u001b[1m\u001b[33mWARNING: \u001b[39m\u001b[22m\u001b[33mtype Result{#recall_predict,Array{Tuple{DataFrames.DataFrame,DataFrames.DataFrame},1}} does not exist in workspace; interpreting Array{Result{#recall_predict,Array{Tuple{DataFrames.DataFrame,DataFrames.DataFrame},1}}} as Array{Any}\u001b[39m\n",
      "\u001b[1m\u001b[33mWARNING: \u001b[39m\u001b[22m\u001b[33msome parameters could not be resolved for type Result{#recall_predict,Array{Tuple{DataFrames.DataFrame,DataFrames.DataFrame},1}}; reconstructing\u001b[39m\n"
     ]
    },
    {
     "data": {
      "text/plain": [
       "2-element Array{Symbol,1}:\n",
       " :results\n",
       " :expts  "
      ]
     },
     "execution_count": 10,
     "metadata": {},
     "output_type": "execute_result"
    }
   ],
   "source": [
    "using \n",
    "    Plots,\n",
    "    StatPlots,\n",
    "    RecipesBase,\n",
    "    Colors, \n",
    "    Images,\n",
    "    DataFrames,\n",
    "    DataFramesMeta,\n",
    "    ConjugatePriors,\n",
    "    Particles\n",
    "\n",
    "using Revise\n",
    "Revise.track(\"modeling.jl\")\n",
    "using DotLearning\n",
    "include(\"experiments.jl\")\n",
    "include(\"plots.jl\")\n",
    "\n",
    "using JLD2\n",
    "@load \"data/dots2014.jld2\"\n",
    "@load \"prior_empirical.jld2\"\n",
    "@load \"results/run3-2018-07-18T12:40:07.059.jld2\" results expts"
   ]
  },
  {
   "cell_type": "markdown",
   "metadata": {
    "slideshow": {
     "slide_type": "slide"
    }
   },
   "source": [
    "# Judgements are made in context"
   ]
  },
  {
   "cell_type": "markdown",
   "metadata": {
    "slideshow": {
     "slide_type": "slide"
    }
   },
   "source": [
    "# Spatial memory task"
   ]
  },
  {
   "cell_type": "code",
   "execution_count": 14,
   "metadata": {},
   "outputs": [
    {
     "name": "stderr",
     "output_type": "stream",
     "text": [
      "\u001b[1m\u001b[36mINFO: \u001b[39m\u001b[22m\u001b[36mSaved animation to /home/dave/work/dots-location-memory-pernille/tmp.gif\n",
      "\u001b[39m"
     ]
    },
    {
     "data": {
      "text/html": [
       "<img src=\"tmp.gif?0.7413771410029357>\" />"
      ],
      "text/plain": [
       "Plots.AnimatedGif(\"/home/dave/work/dots-location-memory-pernille/tmp.gif\")"
      ]
     },
     "execution_count": 14,
     "metadata": {},
     "output_type": "execute_result"
    },
    {
     "name": "stderr",
     "output_type": "stream",
     "text": [
      "WARNING: both Images and StatPlots export \"center\"; uses of it in module Main must be qualified\n",
      "WARNING: both Distances and DataFrames export \"colwise\"; uses of it in module Main must be qualified\n"
     ]
    }
   ],
   "source": [
    "recall1 = @where(recall, :subjid1 .== first(:subjid1))\n",
    "p = plot([], [], xlim=(-1,1), ylim=(-1,1), seriestype=:scatter, legend=false)\n",
    "@gif for (x,y) in zip(recall1[:x], recall1[:y])\n",
    "    push!(p, x,y)\n",
    "end"
   ]
  }
 ],
 "metadata": {
  "celltoolbar": "Slideshow",
  "kernelspec": {
   "display_name": "Julia 0.6.4",
   "language": "julia",
   "name": "julia-0.6"
  },
  "language_info": {
   "file_extension": ".jl",
   "mimetype": "application/julia",
   "name": "julia",
   "version": "0.6.4"
  }
 },
 "nbformat": 4,
 "nbformat_minor": 2
}

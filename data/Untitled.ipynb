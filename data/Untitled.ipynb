{
 "cells": [
  {
   "cell_type": "code",
   "execution_count": 6,
   "metadata": {
    "collapsed": false
   },
   "outputs": [
    {
     "name": "stderr",
     "output_type": "stream",
     "text": [
      "\u001b[1m\u001b[36mINFO: \u001b[39m\u001b[22m\u001b[36mRecompiling stale cache file /home/dave/.julia/lib/v0.6/DataFrames.ji for module DataFrames.\n",
      "\u001b[39m"
     ]
    }
   ],
   "source": [
    "using MAT, DataFrames"
   ]
  },
  {
   "cell_type": "code",
   "execution_count": 8,
   "metadata": {
    "collapsed": false
   },
   "outputs": [
    {
     "data": {
      "text/plain": [
       "Dict{String,Any} with 21 entries:\n",
       "  \"var\"            => [0.01 0.01 … 0.0 0.0]\n",
       "  \"line\"           => [1.0 1.0 … 4.0 4.0]\n",
       "  \"new_rho_bias\"   => [0.0677 -0.1162 … 0.0 0.0]\n",
       "  \"theta_resp\"     => [-1.8158 -0.5191 … -0.1483 -0.8023]\n",
       "  \"subjid1\"        => [1.0 1.0 … 8.0 8.0]\n",
       "  \"pred\"           => [0.0 0.0 … 1.0 10.0]\n",
       "  \"rho_resp\"       => [0.2709 0.0589 … 4.3475 4.569]\n",
       "  \"respnr\"         => [1.0 2.0 … 200.0 200.0]\n",
       "  \"rho\"            => [0.2032 0.1751 … 0.0 0.0]\n",
       "  \"rep\"            => [1.0 2.0 … 3.0 3.0]\n",
       "  \"theta\"          => [0.1749 0.0133 … 0.0 0.0]\n",
       "  \"correct\"        => [1.0 0.0 … 2.0 2.0]\n",
       "  \"new_block\"      => [0.0 0.0 … 0.0 0.0]\n",
       "  \"resp_time\"      => [3.86993 4.89866 … 2.16702 0.948089]\n",
       "  \"rho_bias\"       => [0.0677 -0.1162 … 0.0 0.0]\n",
       "  \"new_theta_bias\" => [1.15089 -0.5324 … -0.1483 -0.8023]\n",
       "  \"block\"          => [1.0 1.0 … 25.0 25.0]\n",
       "  \"theta_bias\"     => [-1.9907 -0.5324 … 0.0 0.0]\n",
       "  \"rep_number\"     => [20.0 20.0 … 3.0 3.0]\n",
       "  \"new_theta_resp\" => [1.32579 -0.5191 … -0.1483 -0.8023]\n",
       "  \"rad\"            => [0.0 0.0 … 0.0 0.0]"
      ]
     },
     "execution_count": 8,
     "metadata": {},
     "output_type": "execute_result"
    }
   ],
   "source": [
    "dot2014 = matread(\"./Dot\\ 2014/data/original_data.mat\")[\"d\"]"
   ]
  },
  {
   "cell_type": "code",
   "execution_count": 10,
   "metadata": {
    "collapsed": false
   },
   "outputs": [
    {
     "data": {
      "text/plain": [
       "21-element Array{Tuple{Int64,Int64},1}:\n",
       " (1, 2280)\n",
       " (1, 2280)\n",
       " (1, 2280)\n",
       " (1, 2280)\n",
       " (1, 2280)\n",
       " (1, 2280)\n",
       " (1, 2280)\n",
       " (1, 2280)\n",
       " (1, 2280)\n",
       " (1, 2280)\n",
       " (1, 2280)\n",
       " (1, 2280)\n",
       " (1, 2280)\n",
       " (1, 2280)\n",
       " (1, 2280)\n",
       " (1, 2280)\n",
       " (1, 2280)\n",
       " (1, 2280)\n",
       " (1, 2280)\n",
       " (1, 2280)\n",
       " (1, 2280)"
      ]
     },
     "execution_count": 10,
     "metadata": {},
     "output_type": "execute_result"
    }
   ],
   "source": [
    "size.(collect(values(dot2014)))"
   ]
  },
  {
   "cell_type": "code",
   "execution_count": 19,
   "metadata": {
    "collapsed": false
   },
   "outputs": [
    {
     "data": {
      "text/html": [
       "<table class=\"data-frame\"><thead><tr><th></th><th>var</th><th>line</th><th>new_rho_bias</th><th>theta_resp</th><th>subjid1</th><th>pred</th><th>rho_resp</th><th>respnr</th><th>rho</th><th>rep</th><th>theta</th><th>correct</th><th>new_block</th><th>resp_time</th><th>rho_bias</th><th>new_theta_bias</th><th>block</th><th>theta_bias</th><th>rep_number</th><th>new_theta_resp</th><th>rad</th></tr></thead><tbody><tr><th>1</th><td>0.01</td><td>1.0</td><td>0.0677</td><td>-1.8158</td><td>1.0</td><td>0.0</td><td>0.2709</td><td>1.0</td><td>0.2032</td><td>1.0</td><td>0.1749</td><td>1.0</td><td>0.0</td><td>3.86993</td><td>0.0677</td><td>1.15089</td><td>1.0</td><td>-1.9907</td><td>20.0</td><td>1.32579</td><td>0.0</td></tr><tr><th>2</th><td>0.01</td><td>1.0</td><td>-0.1162</td><td>-0.5191</td><td>1.0</td><td>0.0</td><td>0.0589</td><td>2.0</td><td>0.1751</td><td>2.0</td><td>0.0133</td><td>0.0</td><td>0.0</td><td>4.89866</td><td>-0.1162</td><td>-0.5324</td><td>1.0</td><td>-0.5324</td><td>20.0</td><td>-0.5191</td><td>0.0</td></tr><tr><th>3</th><td>0.01</td><td>1.0</td><td>0.3643</td><td>-2.7553</td><td>1.0</td><td>0.0</td><td>0.465</td><td>3.0</td><td>-0.1007</td><td>3.0</td><td>0.0325</td><td>1.0</td><td>0.0</td><td>3.27847</td><td>0.5656</td><td>0.353793</td><td>1.0</td><td>-2.7878</td><td>20.0</td><td>0.386293</td><td>0.0</td></tr><tr><th>4</th><td>0.01</td><td>1.0</td><td>0.1782</td><td>-0.4571</td><td>1.0</td><td>0.0</td><td>0.4962</td><td>4.0</td><td>0.318</td><td>4.0</td><td>-0.0794</td><td>0.0</td><td>0.0</td><td>5.18263</td><td>0.1782</td><td>-0.3777</td><td>1.0</td><td>-0.3777</td><td>20.0</td><td>-0.4571</td><td>0.0</td></tr><tr><th>5</th><td>0.01</td><td>1.0</td><td>0.6045</td><td>-0.7403</td><td>1.0</td><td>0.0</td><td>0.8009</td><td>5.0</td><td>-0.1964</td><td>5.0</td><td>0.0315</td><td>0.0</td><td>0.0</td><td>2.16899</td><td>0.9973</td><td>-0.7718</td><td>1.0</td><td>-0.7718</td><td>20.0</td><td>-0.7403</td><td>0.0</td></tr><tr><th>6</th><td>0.01</td><td>1.0</td><td>0.2961</td><td>-2.0718</td><td>1.0</td><td>0.0</td><td>0.3496</td><td>6.0</td><td>0.0535</td><td>6.0</td><td>-0.0527</td><td>1.0</td><td>0.0</td><td>3.50085</td><td>0.2961</td><td>1.12249</td><td>1.0</td><td>-2.0191</td><td>20.0</td><td>1.06979</td><td>0.0</td></tr><tr><th>7</th><td>0.01</td><td>1.0</td><td>0.4522</td><td>0.0</td><td>1.0</td><td>0.0</td><td>0.6497</td><td>7.0</td><td>0.1975</td><td>7.0</td><td>0.0932</td><td>1.0</td><td>0.0</td><td>2.95322</td><td>0.4522</td><td>-0.0932</td><td>1.0</td><td>-0.0932</td><td>20.0</td><td>0.0</td><td>0.0</td></tr><tr><th>8</th><td>0.01</td><td>1.0</td><td>0.3549</td><td>-1.8647</td><td>1.0</td><td>0.0</td><td>0.5797</td><td>8.0</td><td>0.2248</td><td>8.0</td><td>0.1165</td><td>1.0</td><td>0.0</td><td>3.21443</td><td>0.3549</td><td>1.16039</td><td>1.0</td><td>-1.9811</td><td>20.0</td><td>1.27689</td><td>0.0</td></tr><tr><th>9</th><td>0.01</td><td>1.0</td><td>0.105</td><td>2.5269</td><td>1.0</td><td>0.0</td><td>0.1519</td><td>9.0</td><td>-0.0469</td><td>9.0</td><td>-0.2046</td><td>0.0</td><td>0.0</td><td>2.29494</td><td>0.1988</td><td>1.1607</td><td>1.0</td><td>2.7315</td><td>20.0</td><td>0.956104</td><td>0.0</td></tr><tr><th>10</th><td>0.01</td><td>1.0</td><td>-0.1168</td><td>0.4398</td><td>1.0</td><td>0.0</td><td>0.1372</td><td>10.0</td><td>0.254</td><td>10.0</td><td>-0.0644</td><td>0.0</td><td>0.0</td><td>3.76106</td><td>-0.1168</td><td>0.5042</td><td>1.0</td><td>0.5043</td><td>20.0</td><td>0.4398</td><td>0.0</td></tr><tr><th>11</th><td>0.01</td><td>1.0</td><td>-0.055</td><td>0.0</td><td>1.0</td><td>0.0</td><td>0.0073</td><td>11.0</td><td>0.0623</td><td>11.0</td><td>0.1741</td><td>1.0</td><td>0.0</td><td>2.31946</td><td>-0.055</td><td>-0.1741</td><td>1.0</td><td>-0.1741</td><td>20.0</td><td>0.0</td><td>0.0</td></tr><tr><th>12</th><td>0.01</td><td>1.0</td><td>0.0216</td><td>2.2143</td><td>1.0</td><td>0.0</td><td>0.0365</td><td>12.0</td><td>0.0149</td><td>12.0</td><td>0.0487</td><td>1.0</td><td>0.0</td><td>1.74404</td><td>0.0216</td><td>0.594804</td><td>1.0</td><td>2.1656</td><td>20.0</td><td>0.643504</td><td>0.0</td></tr><tr><th>13</th><td>0.01</td><td>1.0</td><td>-0.0412</td><td>-1.1501</td><td>1.0</td><td>0.0</td><td>0.3039</td><td>13.0</td><td>0.3451</td><td>13.0</td><td>0.1049</td><td>1.0</td><td>0.0</td><td>1.85242</td><td>-0.0412</td><td>-1.255</td><td>1.0</td><td>-1.255</td><td>20.0</td><td>-1.1501</td><td>0.0</td></tr><tr><th>14</th><td>0.01</td><td>1.0</td><td>0.0359</td><td>-1.6421</td><td>1.0</td><td>0.0</td><td>0.3074</td><td>14.0</td><td>-0.2715</td><td>14.0</td><td>0.1489</td><td>1.0</td><td>0.0</td><td>1.95934</td><td>0.5788</td><td>1.35059</td><td>1.0</td><td>-1.791</td><td>20.0</td><td>1.49949</td><td>0.0</td></tr><tr><th>15</th><td>0.01</td><td>1.0</td><td>-0.0702</td><td>-0.4809</td><td>1.0</td><td>0.0</td><td>0.1894</td><td>15.0</td><td>0.2595</td><td>15.0</td><td>0.1271</td><td>1.0</td><td>0.0</td><td>2.2603</td><td>-0.0702</td><td>-0.608</td><td>1.0</td><td>-0.6079</td><td>20.0</td><td>-0.4809</td><td>0.0</td></tr><tr><th>16</th><td>0.01</td><td>1.0</td><td>-0.2572</td><td>2.4669</td><td>1.0</td><td>0.0</td><td>0.1402</td><td>16.0</td><td>0.3974</td><td>16.0</td><td>-0.1856</td><td>0.0</td><td>0.0</td><td>1.94106</td><td>-0.2572</td><td>1.0817</td><td>1.0</td><td>2.6525</td><td>20.0</td><td>0.896104</td><td>0.0</td></tr><tr><th>17</th><td>0.01</td><td>1.0</td><td>-0.1107</td><td>0.8288</td><td>1.0</td><td>0.0</td><td>0.1188</td><td>17.0</td><td>0.2295</td><td>17.0</td><td>0.2134</td><td>1.0</td><td>0.0</td><td>1.65446</td><td>-0.1107</td><td>0.6154</td><td>1.0</td><td>0.6154</td><td>20.0</td><td>0.8288</td><td>0.0</td></tr><tr><th>18</th><td>0.01</td><td>1.0</td><td>0.5644</td><td>-1.6643</td><td>1.0</td><td>0.0</td><td>0.7039</td><td>18.0</td><td>-0.1395</td><td>18.0</td><td>0.1436</td><td>1.0</td><td>0.0</td><td>2.21943</td><td>0.8434</td><td>1.33369</td><td>1.0</td><td>-1.8079</td><td>20.0</td><td>1.47729</td><td>0.0</td></tr><tr><th>19</th><td>0.01</td><td>1.0</td><td>0.5195</td><td>-1.7359</td><td>1.0</td><td>0.0</td><td>0.5773</td><td>19.0</td><td>0.0577</td><td>19.0</td><td>-0.0917</td><td>0.0</td><td>0.0</td><td>1.74521</td><td>0.5195</td><td>1.49739</td><td>1.0</td><td>-1.6442</td><td>20.0</td><td>1.40569</td><td>0.0</td></tr><tr><th>20</th><td>0.01</td><td>1.0</td><td>0.1859</td><td>2.9489</td><td>1.0</td><td>0.0</td><td>0.3049</td><td>20.0</td><td>0.119</td><td>20.0</td><td>-0.1106</td><td>1.0</td><td>0.0</td><td>1.85197</td><td>0.1859</td><td>1.4887</td><td>1.0</td><td>3.0595</td><td>20.0</td><td>1.3781</td><td>0.0</td></tr><tr><th>21</th><td>0.0</td><td>1.0</td><td>0.0</td><td>1.3258</td><td>1.0</td><td>10.0</td><td>0.0301</td><td>20.0</td><td>0.0</td><td>20.0</td><td>0.0</td><td>2.0</td><td>0.0</td><td>2.95271</td><td>0.0</td><td>1.3258</td><td>1.0</td><td>0.0</td><td>20.0</td><td>1.3258</td><td>0.0</td></tr><tr><th>22</th><td>0.06</td><td>6.0</td><td>-0.4727</td><td>1.0766</td><td>1.0</td><td>0.0</td><td>1.7082</td><td>21.0</td><td>2.181</td><td>1.0</td><td>1.1316</td><td>0.0</td><td>1.0</td><td>2.11027</td><td>-0.4727</td><td>-0.055</td><td>2.0</td><td>-0.055</td><td>6.0</td><td>1.0766</td><td>0.3</td></tr><tr><th>23</th><td>0.06</td><td>6.0</td><td>-0.0821</td><td>1.9915</td><td>1.0</td><td>0.0</td><td>2.7351</td><td>22.0</td><td>2.8172</td><td>2.0</td><td>1.8401</td><td>1.0</td><td>0.0</td><td>1.48907</td><td>-0.0821</td><td>0.1514</td><td>2.0</td><td>0.1514</td><td>6.0</td><td>1.9915</td><td>0.3</td></tr><tr><th>24</th><td>0.06</td><td>6.0</td><td>0.3909</td><td>1.4887</td><td>1.0</td><td>0.0</td><td>2.2267</td><td>23.0</td><td>1.8358</td><td>3.0</td><td>1.2692</td><td>0.0</td><td>0.0</td><td>1.5035</td><td>0.3909</td><td>0.2195</td><td>2.0</td><td>0.2196</td><td>6.0</td><td>1.4887</td><td>0.3</td></tr><tr><th>25</th><td>0.0</td><td>6.0</td><td>0.0</td><td>1.2224</td><td>1.0</td><td>1.0</td><td>1.6465</td><td>23.0</td><td>0.0</td><td>3.0</td><td>0.0</td><td>2.0</td><td>0.0</td><td>6.90309</td><td>0.0</td><td>1.2224</td><td>2.0</td><td>0.0</td><td>6.0</td><td>1.2224</td><td>0.3</td></tr><tr><th>26</th><td>0.06</td><td>6.0</td><td>-0.7773</td><td>-2.6661</td><td>1.0</td><td>0.0</td><td>0.8293</td><td>24.0</td><td>1.6066</td><td>4.0</td><td>1.4094</td><td>1.0</td><td>0.0</td><td>1.84608</td><td>-0.7773</td><td>-0.933907</td><td>2.0</td><td>-4.0755</td><td>6.0</td><td>0.475493</td><td>0.3</td></tr><tr><th>27</th><td>0.06</td><td>6.0</td><td>0.2682</td><td>0.9953</td><td>1.0</td><td>0.0</td><td>1.4619</td><td>25.0</td><td>1.1937</td><td>5.0</td><td>1.5074</td><td>1.0</td><td>0.0</td><td>1.31155</td><td>0.2682</td><td>-0.5121</td><td>2.0</td><td>-0.5122</td><td>6.0</td><td>0.9953</td><td>0.3</td></tr><tr><th>28</th><td>0.06</td><td>6.0</td><td>-0.4939</td><td>0.8641</td><td>1.0</td><td>0.0</td><td>1.2479</td><td>26.0</td><td>1.7418</td><td>6.0</td><td>1.2157</td><td>1.0</td><td>0.0</td><td>1.37835</td><td>-0.4939</td><td>-0.3516</td><td>2.0</td><td>-0.3516</td><td>6.0</td><td>0.8641</td><td>0.3</td></tr><tr><th>29</th><td>0.0</td><td>6.0</td><td>0.0</td><td>2.4801</td><td>1.0</td><td>5.0</td><td>4.8013</td><td>26.0</td><td>0.0</td><td>6.0</td><td>0.0</td><td>2.0</td><td>0.0</td><td>5.4619</td><td>0.0</td><td>2.4801</td><td>2.0</td><td>0.0</td><td>6.0</td><td>2.4801</td><td>0.3</td></tr><tr><th>30</th><td>0.0</td><td>6.0</td><td>0.0</td><td>1.1153</td><td>1.0</td><td>10.0</td><td>1.6096</td><td>26.0</td><td>0.0</td><td>6.0</td><td>0.0</td><td>2.0</td><td>0.0</td><td>2.83137</td><td>0.0</td><td>1.1153</td><td>2.0</td><td>0.0</td><td>6.0</td><td>1.1153</td><td>0.3</td></tr><tr><th>&vellip;</th><td>&vellip;</td><td>&vellip;</td><td>&vellip;</td><td>&vellip;</td><td>&vellip;</td><td>&vellip;</td><td>&vellip;</td><td>&vellip;</td><td>&vellip;</td><td>&vellip;</td><td>&vellip;</td><td>&vellip;</td><td>&vellip;</td><td>&vellip;</td><td>&vellip;</td><td>&vellip;</td><td>&vellip;</td><td>&vellip;</td><td>&vellip;</td><td>&vellip;</td><td>&vellip;</td></tr></tbody></table>"
      ],
      "text/plain": [
       "2280×21 DataFrames.DataFrame. Omitted printing of 14 columns\n",
       "│ Row  │ var  │ line │ new_rho_bias │ theta_resp │ subjid1 │ pred │ rho_resp │\n",
       "├──────┼──────┼──────┼──────────────┼────────────┼─────────┼──────┼──────────┤\n",
       "│ 1    │ 0.01 │ 1.0  │ 0.0677       │ -1.8158    │ 1.0     │ 0.0  │ 0.2709   │\n",
       "│ 2    │ 0.01 │ 1.0  │ -0.1162      │ -0.5191    │ 1.0     │ 0.0  │ 0.0589   │\n",
       "│ 3    │ 0.01 │ 1.0  │ 0.3643       │ -2.7553    │ 1.0     │ 0.0  │ 0.465    │\n",
       "│ 4    │ 0.01 │ 1.0  │ 0.1782       │ -0.4571    │ 1.0     │ 0.0  │ 0.4962   │\n",
       "│ 5    │ 0.01 │ 1.0  │ 0.6045       │ -0.7403    │ 1.0     │ 0.0  │ 0.8009   │\n",
       "│ 6    │ 0.01 │ 1.0  │ 0.2961       │ -2.0718    │ 1.0     │ 0.0  │ 0.3496   │\n",
       "│ 7    │ 0.01 │ 1.0  │ 0.4522       │ 0.0        │ 1.0     │ 0.0  │ 0.6497   │\n",
       "│ 8    │ 0.01 │ 1.0  │ 0.3549       │ -1.8647    │ 1.0     │ 0.0  │ 0.5797   │\n",
       "│ 9    │ 0.01 │ 1.0  │ 0.105        │ 2.5269     │ 1.0     │ 0.0  │ 0.1519   │\n",
       "│ 10   │ 0.01 │ 1.0  │ -0.1168      │ 0.4398     │ 1.0     │ 0.0  │ 0.1372   │\n",
       "│ 11   │ 0.01 │ 1.0  │ -0.055       │ 0.0        │ 1.0     │ 0.0  │ 0.0073   │\n",
       "⋮\n",
       "│ 2269 │ 0.01 │ 23.0 │ 0.7297       │ 0.3847     │ 8.0     │ 0.0  │ 1.2838   │\n",
       "│ 2270 │ 0.0  │ 23.0 │ 0.0          │ -0.313     │ 8.0     │ 1.0  │ 5.0258   │\n",
       "│ 2271 │ 0.01 │ 23.0 │ 0.312        │ 2.1151     │ 8.0     │ 0.0  │ 0.3243   │\n",
       "│ 2272 │ 0.01 │ 23.0 │ 0.2155       │ 1.886      │ 8.0     │ 0.0  │ 0.3532   │\n",
       "│ 2273 │ 0.01 │ 23.0 │ 3.082        │ 1.0181     │ 8.0     │ 0.0  │ 3.1564   │\n",
       "│ 2274 │ 0.0  │ 23.0 │ 0.0          │ -0.3697    │ 8.0     │ 5.0  │ 2.2626   │\n",
       "│ 2275 │ 0.0  │ 23.0 │ 0.0          │ -1.9899    │ 8.0     │ 10.0 │ 2.4934   │\n",
       "│ 2276 │ 0.01 │ 4.0  │ 0.3286       │ 2.1143     │ 8.0     │ 0.0  │ 0.4094   │\n",
       "│ 2277 │ 0.01 │ 4.0  │ 0.3796       │ 2.4004     │ 8.0     │ 0.0  │ 0.5839   │\n",
       "│ 2278 │ 0.01 │ 4.0  │ 1.6397       │ -0.361     │ 8.0     │ 0.0  │ 1.9429   │\n",
       "│ 2279 │ 0.0  │ 4.0  │ 0.0          │ -0.1483    │ 8.0     │ 1.0  │ 4.3475   │\n",
       "│ 2280 │ 0.0  │ 4.0  │ 0.0          │ -0.8023    │ 8.0     │ 10.0 │ 4.569    │"
      ]
     },
     "execution_count": 19,
     "metadata": {},
     "output_type": "execute_result"
    }
   ],
   "source": [
    "dat = DataFrame(map(vec, values(dot2014)), map(Symbol, keys(dot2014)))"
   ]
  },
  {
   "cell_type": "code",
   "execution_count": 20,
   "metadata": {
    "collapsed": true
   },
   "outputs": [],
   "source": [
    "using Underscore, DataFramesMeta"
   ]
  },
  {
   "cell_type": "code",
   "execution_count": null,
   "metadata": {
    "collapsed": true
   },
   "outputs": [],
   "source": []
  }
 ],
 "metadata": {
  "kernelspec": {
   "display_name": "Julia 0.6.3",
   "language": "julia",
   "name": "julia-0.6"
  },
  "language_info": {
   "file_extension": ".jl",
   "mimetype": "application/julia",
   "name": "julia",
   "version": "0.6.3"
  }
 },
 "nbformat": 4,
 "nbformat_minor": 2
}
